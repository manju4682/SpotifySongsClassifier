{
 "cells": [
  {
   "cell_type": "code",
   "execution_count": 1,
   "id": "a0c4be33",
   "metadata": {},
   "outputs": [],
   "source": [
    "import pandas as pd\n",
    "import numpy as np"
   ]
  },
  {
   "cell_type": "code",
   "execution_count": 2,
   "id": "ccae44cb",
   "metadata": {},
   "outputs": [],
   "source": [
    "df1 = pd.read_csv('finalplaylist1.csv',index_col=0)"
   ]
  },
  {
   "cell_type": "code",
   "execution_count": 3,
   "id": "0f34096c",
   "metadata": {},
   "outputs": [],
   "source": [
    "df2 = pd.read_csv('finalplaylist2.csv',index_col=0)\n",
    "df3 = pd.read_csv('finalplaylist3.csv',index_col=0)"
   ]
  },
  {
   "cell_type": "code",
   "execution_count": 4,
   "id": "46d0479b",
   "metadata": {},
   "outputs": [
    {
     "data": {
      "text/plain": [
       "(8133, 24)"
      ]
     },
     "execution_count": 4,
     "metadata": {},
     "output_type": "execute_result"
    }
   ],
   "source": [
    "df1.shape"
   ]
  },
  {
   "cell_type": "code",
   "execution_count": 5,
   "id": "20d41837",
   "metadata": {},
   "outputs": [
    {
     "data": {
      "text/plain": [
       "(8962, 24)"
      ]
     },
     "execution_count": 5,
     "metadata": {},
     "output_type": "execute_result"
    }
   ],
   "source": [
    "df2.shape"
   ]
  },
  {
   "cell_type": "code",
   "execution_count": 6,
   "id": "3c7e42e8",
   "metadata": {},
   "outputs": [
    {
     "data": {
      "text/plain": [
       "(3759, 24)"
      ]
     },
     "execution_count": 6,
     "metadata": {},
     "output_type": "execute_result"
    }
   ],
   "source": [
    "df3.shape"
   ]
  },
  {
   "cell_type": "markdown",
   "id": "45e38228",
   "metadata": {},
   "source": []
  },
  {
   "cell_type": "code",
   "execution_count": 7,
   "id": "db795d70",
   "metadata": {},
   "outputs": [],
   "source": [
    "df = pd.concat([df1,df2,df3],axis=0)\n"
   ]
  },
  {
   "cell_type": "code",
   "execution_count": 8,
   "id": "ee9305f8",
   "metadata": {},
   "outputs": [
    {
     "data": {
      "text/html": [
       "<div>\n",
       "<style scoped>\n",
       "    .dataframe tbody tr th:only-of-type {\n",
       "        vertical-align: middle;\n",
       "    }\n",
       "\n",
       "    .dataframe tbody tr th {\n",
       "        vertical-align: top;\n",
       "    }\n",
       "\n",
       "    .dataframe thead th {\n",
       "        text-align: right;\n",
       "    }\n",
       "</style>\n",
       "<table border=\"1\" class=\"dataframe\">\n",
       "  <thead>\n",
       "    <tr style=\"text-align: right;\">\n",
       "      <th></th>\n",
       "      <th>name</th>\n",
       "      <th>duration</th>\n",
       "      <th>artist_name</th>\n",
       "      <th>is_explicit</th>\n",
       "      <th>time_signature</th>\n",
       "      <th>danceability</th>\n",
       "      <th>energy</th>\n",
       "      <th>key</th>\n",
       "      <th>loudness</th>\n",
       "      <th>mode</th>\n",
       "      <th>...</th>\n",
       "      <th>valence</th>\n",
       "      <th>tempo</th>\n",
       "      <th>popularity</th>\n",
       "      <th>Pop</th>\n",
       "      <th>Rock</th>\n",
       "      <th>Hip Hop</th>\n",
       "      <th>Folk</th>\n",
       "      <th>Metal</th>\n",
       "      <th>Blues</th>\n",
       "      <th>Jazz</th>\n",
       "    </tr>\n",
       "    <tr>\n",
       "      <th>id</th>\n",
       "      <th></th>\n",
       "      <th></th>\n",
       "      <th></th>\n",
       "      <th></th>\n",
       "      <th></th>\n",
       "      <th></th>\n",
       "      <th></th>\n",
       "      <th></th>\n",
       "      <th></th>\n",
       "      <th></th>\n",
       "      <th></th>\n",
       "      <th></th>\n",
       "      <th></th>\n",
       "      <th></th>\n",
       "      <th></th>\n",
       "      <th></th>\n",
       "      <th></th>\n",
       "      <th></th>\n",
       "      <th></th>\n",
       "      <th></th>\n",
       "      <th></th>\n",
       "    </tr>\n",
       "  </thead>\n",
       "  <tbody>\n",
       "    <tr>\n",
       "      <th>33xMbeHzmWd6Od0BmLZEUs</th>\n",
       "      <td>2K</td>\n",
       "      <td>152560</td>\n",
       "      <td>Nosaj Thing</td>\n",
       "      <td>False</td>\n",
       "      <td>3</td>\n",
       "      <td>0.310</td>\n",
       "      <td>0.445</td>\n",
       "      <td>7</td>\n",
       "      <td>-13.355</td>\n",
       "      <td>0</td>\n",
       "      <td>...</td>\n",
       "      <td>0.122</td>\n",
       "      <td>95.360</td>\n",
       "      <td>0</td>\n",
       "      <td>0</td>\n",
       "      <td>1</td>\n",
       "      <td>0</td>\n",
       "      <td>0</td>\n",
       "      <td>0</td>\n",
       "      <td>0</td>\n",
       "      <td>0</td>\n",
       "    </tr>\n",
       "    <tr>\n",
       "      <th>3UnyplmZaq547hwsfOR5yy</th>\n",
       "      <td>4 Billion Souls</td>\n",
       "      <td>197706</td>\n",
       "      <td>The Doors</td>\n",
       "      <td>False</td>\n",
       "      <td>4</td>\n",
       "      <td>0.419</td>\n",
       "      <td>0.565</td>\n",
       "      <td>5</td>\n",
       "      <td>-11.565</td>\n",
       "      <td>1</td>\n",
       "      <td>...</td>\n",
       "      <td>0.648</td>\n",
       "      <td>151.277</td>\n",
       "      <td>25</td>\n",
       "      <td>0</td>\n",
       "      <td>1</td>\n",
       "      <td>0</td>\n",
       "      <td>0</td>\n",
       "      <td>0</td>\n",
       "      <td>0</td>\n",
       "      <td>0</td>\n",
       "    </tr>\n",
       "    <tr>\n",
       "      <th>1w8QCSDH4QobcQeT4uMKLm</th>\n",
       "      <td>4 Minute Warning</td>\n",
       "      <td>244284</td>\n",
       "      <td>Radiohead</td>\n",
       "      <td>False</td>\n",
       "      <td>4</td>\n",
       "      <td>0.354</td>\n",
       "      <td>0.302</td>\n",
       "      <td>9</td>\n",
       "      <td>-13.078</td>\n",
       "      <td>1</td>\n",
       "      <td>...</td>\n",
       "      <td>0.223</td>\n",
       "      <td>123.753</td>\n",
       "      <td>1</td>\n",
       "      <td>0</td>\n",
       "      <td>1</td>\n",
       "      <td>0</td>\n",
       "      <td>1</td>\n",
       "      <td>0</td>\n",
       "      <td>0</td>\n",
       "      <td>0</td>\n",
       "    </tr>\n",
       "    <tr>\n",
       "      <th>7J9mBHG4J2eIfDAv5BehKA</th>\n",
       "      <td>7 Element</td>\n",
       "      <td>249939</td>\n",
       "      <td>Vitas</td>\n",
       "      <td>False</td>\n",
       "      <td>4</td>\n",
       "      <td>0.727</td>\n",
       "      <td>0.785</td>\n",
       "      <td>5</td>\n",
       "      <td>-6.707</td>\n",
       "      <td>0</td>\n",
       "      <td>...</td>\n",
       "      <td>0.960</td>\n",
       "      <td>129.649</td>\n",
       "      <td>0</td>\n",
       "      <td>0</td>\n",
       "      <td>0</td>\n",
       "      <td>1</td>\n",
       "      <td>0</td>\n",
       "      <td>0</td>\n",
       "      <td>0</td>\n",
       "      <td>0</td>\n",
       "    </tr>\n",
       "    <tr>\n",
       "      <th>1VZedwJj1gyi88WFRhfThb</th>\n",
       "      <td>#9 Dream</td>\n",
       "      <td>278320</td>\n",
       "      <td>R.E.M.</td>\n",
       "      <td>False</td>\n",
       "      <td>4</td>\n",
       "      <td>0.571</td>\n",
       "      <td>0.724</td>\n",
       "      <td>0</td>\n",
       "      <td>-5.967</td>\n",
       "      <td>1</td>\n",
       "      <td>...</td>\n",
       "      <td>0.385</td>\n",
       "      <td>116.755</td>\n",
       "      <td>6</td>\n",
       "      <td>1</td>\n",
       "      <td>1</td>\n",
       "      <td>0</td>\n",
       "      <td>0</td>\n",
       "      <td>0</td>\n",
       "      <td>0</td>\n",
       "      <td>0</td>\n",
       "    </tr>\n",
       "  </tbody>\n",
       "</table>\n",
       "<p>5 rows × 24 columns</p>\n",
       "</div>"
      ],
      "text/plain": [
       "                                    name  duration  artist_name  is_explicit  \\\n",
       "id                                                                             \n",
       "33xMbeHzmWd6Od0BmLZEUs                2K    152560  Nosaj Thing        False   \n",
       "3UnyplmZaq547hwsfOR5yy   4 Billion Souls    197706    The Doors        False   \n",
       "1w8QCSDH4QobcQeT4uMKLm  4 Minute Warning    244284    Radiohead        False   \n",
       "7J9mBHG4J2eIfDAv5BehKA         7 Element    249939        Vitas        False   \n",
       "1VZedwJj1gyi88WFRhfThb          #9 Dream    278320       R.E.M.        False   \n",
       "\n",
       "                        time_signature  danceability  energy  key  loudness  \\\n",
       "id                                                                            \n",
       "33xMbeHzmWd6Od0BmLZEUs               3         0.310   0.445    7   -13.355   \n",
       "3UnyplmZaq547hwsfOR5yy               4         0.419   0.565    5   -11.565   \n",
       "1w8QCSDH4QobcQeT4uMKLm               4         0.354   0.302    9   -13.078   \n",
       "7J9mBHG4J2eIfDAv5BehKA               4         0.727   0.785    5    -6.707   \n",
       "1VZedwJj1gyi88WFRhfThb               4         0.571   0.724    0    -5.967   \n",
       "\n",
       "                        mode  ...  valence    tempo  popularity  Pop  Rock  \\\n",
       "id                            ...                                            \n",
       "33xMbeHzmWd6Od0BmLZEUs     0  ...    0.122   95.360           0    0     1   \n",
       "3UnyplmZaq547hwsfOR5yy     1  ...    0.648  151.277          25    0     1   \n",
       "1w8QCSDH4QobcQeT4uMKLm     1  ...    0.223  123.753           1    0     1   \n",
       "7J9mBHG4J2eIfDAv5BehKA     0  ...    0.960  129.649           0    0     0   \n",
       "1VZedwJj1gyi88WFRhfThb     1  ...    0.385  116.755           6    1     1   \n",
       "\n",
       "                        Hip Hop  Folk  Metal  Blues  Jazz  \n",
       "id                                                         \n",
       "33xMbeHzmWd6Od0BmLZEUs        0     0      0      0     0  \n",
       "3UnyplmZaq547hwsfOR5yy        0     0      0      0     0  \n",
       "1w8QCSDH4QobcQeT4uMKLm        0     1      0      0     0  \n",
       "7J9mBHG4J2eIfDAv5BehKA        1     0      0      0     0  \n",
       "1VZedwJj1gyi88WFRhfThb        0     0      0      0     0  \n",
       "\n",
       "[5 rows x 24 columns]"
      ]
     },
     "execution_count": 8,
     "metadata": {},
     "output_type": "execute_result"
    }
   ],
   "source": [
    "df.head()"
   ]
  },
  {
   "cell_type": "code",
   "execution_count": 9,
   "id": "5bae3f02",
   "metadata": {},
   "outputs": [
    {
     "data": {
      "text/plain": [
       "(20854, 24)"
      ]
     },
     "execution_count": 9,
     "metadata": {},
     "output_type": "execute_result"
    }
   ],
   "source": [
    "df.shape"
   ]
  },
  {
   "cell_type": "code",
   "execution_count": 10,
   "id": "c6a7c451",
   "metadata": {},
   "outputs": [],
   "source": [
    "df.dropna(axis=0,how='any',inplace=True)"
   ]
  },
  {
   "cell_type": "code",
   "execution_count": 11,
   "id": "51b287ee",
   "metadata": {},
   "outputs": [
    {
     "data": {
      "text/plain": [
       "(20852, 24)"
      ]
     },
     "execution_count": 11,
     "metadata": {},
     "output_type": "execute_result"
    }
   ],
   "source": [
    "df.shape"
   ]
  },
  {
   "cell_type": "code",
   "execution_count": 12,
   "id": "df84704a",
   "metadata": {},
   "outputs": [],
   "source": [
    "df.drop_duplicates(subset=['name','artist_name'],inplace=True)"
   ]
  },
  {
   "cell_type": "code",
   "execution_count": 13,
   "id": "2163c76f",
   "metadata": {},
   "outputs": [
    {
     "data": {
      "text/plain": [
       "(18833, 24)"
      ]
     },
     "execution_count": 13,
     "metadata": {},
     "output_type": "execute_result"
    }
   ],
   "source": [
    "df.shape"
   ]
  },
  {
   "cell_type": "code",
   "execution_count": 14,
   "id": "68638d67",
   "metadata": {},
   "outputs": [
    {
     "data": {
      "text/plain": [
       "Index(['name', 'duration', 'artist_name', 'is_explicit', 'time_signature',\n",
       "       'danceability', 'energy', 'key', 'loudness', 'mode', 'speechiness',\n",
       "       'acousticness', 'instrumentalness', 'liveness', 'valence', 'tempo',\n",
       "       'popularity', 'Pop', 'Rock', 'Hip Hop', 'Folk', 'Metal', 'Blues',\n",
       "       'Jazz'],\n",
       "      dtype='object')"
      ]
     },
     "execution_count": 14,
     "metadata": {},
     "output_type": "execute_result"
    }
   ],
   "source": [
    "df.columns"
   ]
  },
  {
   "cell_type": "code",
   "execution_count": 15,
   "id": "00116b6e",
   "metadata": {},
   "outputs": [],
   "source": [
    "indexNames = df[ (df['Pop'] == 0) & (df['Rock'] == 0) & (df['Hip Hop'] == 0) & (df['Folk'] == 0) & (df['Metal'] == 0) & (df['Blues'] == 0) & (df['Jazz'] == 0) ].index"
   ]
  },
  {
   "cell_type": "code",
   "execution_count": 16,
   "id": "edb6550f",
   "metadata": {},
   "outputs": [
    {
     "data": {
      "text/plain": [
       "Index(['2YTRLoG5jdzCp4yg3B6OnH', '6Tq4LginUMBOgZrUs8M40h',\n",
       "       '2vEkF5UazjaBL6CpG2BZgq', '7or26qS3BfpTtWO3BFw5GE',\n",
       "       '3Vef8GlFWEzrP23UwHjWWl', '1Lwux3cAXrUG3UWjUEGteT',\n",
       "       '2NsQgzcCEy9hZbHaBG4Xfy', '5pxUPHdS1ItmLjU25AbYLg',\n",
       "       '5U7r8PAmvfILOMjmFeYlDL', '1LADUenCei27c26JD0pg05',\n",
       "       ...\n",
       "       '7x3vcsxOTWQm3FxRrUEqzv', '7uHRKSQ9WIlBBuBY7BHcbq',\n",
       "       '6QlKONDgjp9JqcthAtDlKk', '60YDNopVT8FDOdtk0tWPNU',\n",
       "       '0kT1yNCDeT6qLt2BgX1MdD', '6H7RUDjmjiGV4I9hE24Kk5',\n",
       "       '7KvmojKwAts4vuuVS0TkB9', '0Z2D2EwQAdyz42Vhg4TUZ3',\n",
       "       '1ZX0LUTVpuh8YzbQe7WbvU', '7AK01WpnqURCRFbOX4LOHa'],\n",
       "      dtype='object', name='id', length=5961)"
      ]
     },
     "execution_count": 16,
     "metadata": {},
     "output_type": "execute_result"
    }
   ],
   "source": [
    "indexNames"
   ]
  },
  {
   "cell_type": "code",
   "execution_count": 17,
   "id": "35c598cc",
   "metadata": {},
   "outputs": [
    {
     "data": {
      "text/plain": [
       "name                143 (Kelly's song) 2011\n",
       "duration                             266066\n",
       "artist_name                Jake Shimabukuro\n",
       "is_explicit                           False\n",
       "time_signature                            4\n",
       "danceability                           0.37\n",
       "energy                                0.361\n",
       "key                                       9\n",
       "loudness                            -12.271\n",
       "mode                                      1\n",
       "speechiness                          0.0321\n",
       "acousticness                           0.81\n",
       "instrumentalness                       0.87\n",
       "liveness                              0.113\n",
       "valence                               0.479\n",
       "tempo                                66.409\n",
       "popularity                               20\n",
       "Pop                                       0\n",
       "Rock                                      0\n",
       "Hip Hop                                   0\n",
       "Folk                                      0\n",
       "Metal                                     0\n",
       "Blues                                     0\n",
       "Jazz                                      0\n",
       "Name: 6Tq4LginUMBOgZrUs8M40h, dtype: object"
      ]
     },
     "execution_count": 17,
     "metadata": {},
     "output_type": "execute_result"
    }
   ],
   "source": [
    "df.loc['6Tq4LginUMBOgZrUs8M40h']"
   ]
  },
  {
   "cell_type": "code",
   "execution_count": 18,
   "id": "8cde9a79",
   "metadata": {},
   "outputs": [],
   "source": [
    "df.drop(indexNames , inplace=True)"
   ]
  },
  {
   "cell_type": "code",
   "execution_count": 53,
   "id": "03fa984a",
   "metadata": {},
   "outputs": [],
   "source": [
    "df.to_csv('finalplaylist.csv')"
   ]
  },
  {
   "cell_type": "code",
   "execution_count": 19,
   "id": "5321d9ad",
   "metadata": {},
   "outputs": [
    {
     "data": {
      "text/plain": [
       "(12872, 24)"
      ]
     },
     "execution_count": 19,
     "metadata": {},
     "output_type": "execute_result"
    }
   ],
   "source": [
    "df.shape"
   ]
  },
  {
   "cell_type": "code",
   "execution_count": 20,
   "id": "5136f7b7",
   "metadata": {},
   "outputs": [],
   "source": [
    "y = ['Pop', 'Rock', 'Hip Hop', 'Folk', 'Metal', 'Blues',\n",
    "       'Jazz']"
   ]
  },
  {
   "cell_type": "code",
   "execution_count": 21,
   "id": "a1d9885b",
   "metadata": {},
   "outputs": [],
   "source": [
    "Y = df[y]"
   ]
  },
  {
   "cell_type": "code",
   "execution_count": 22,
   "id": "339a8983",
   "metadata": {},
   "outputs": [
    {
     "name": "stdout",
     "output_type": "stream",
     "text": [
      "                        Pop  Rock  Hip Hop  Folk  Metal  Blues  Jazz\n",
      "id                                                                  \n",
      "33xMbeHzmWd6Od0BmLZEUs    0     1        0     0      0      0     0\n",
      "3UnyplmZaq547hwsfOR5yy    0     1        0     0      0      0     0\n",
      "1w8QCSDH4QobcQeT4uMKLm    0     1        0     1      0      0     0\n",
      "7J9mBHG4J2eIfDAv5BehKA    0     0        1     0      0      0     0\n",
      "1VZedwJj1gyi88WFRhfThb    1     1        0     0      0      0     0\n",
      "...                     ...   ...      ...   ...    ...    ...   ...\n",
      "21UkXrc9kD48rNpTMI2ecz    0     0        1     0      0      0     0\n",
      "50a8bKqlwDEqeiEknrzkTO    0     0        1     0      0      0     0\n",
      "4guBZjUyrGoHsTahO3IHdj    0     0        1     0      0      0     0\n",
      "7niut1GcKrCVZe4mx7Tqp8    0     0        1     0      0      0     0\n",
      "2BULAwmRpScmZE7YOF07e5    0     0        1     0      0      0     0\n",
      "\n",
      "[12872 rows x 7 columns]\n"
     ]
    }
   ],
   "source": [
    "print(Y)"
   ]
  },
  {
   "cell_type": "code",
   "execution_count": 39,
   "id": "af50a5b5",
   "metadata": {},
   "outputs": [],
   "source": [
    "features = ['duration','is_explicit', 'time_signature',\n",
    "       'danceability', 'energy', 'key', 'loudness', 'mode', 'speechiness',\n",
    "       'acousticness', 'instrumentalness', 'liveness', 'valence', 'tempo',\n",
    "       'popularity']"
   ]
  },
  {
   "cell_type": "code",
   "execution_count": 40,
   "id": "10525a35",
   "metadata": {},
   "outputs": [],
   "source": [
    "X = df[features]"
   ]
  },
  {
   "cell_type": "code",
   "execution_count": 41,
   "id": "a0f5de14",
   "metadata": {},
   "outputs": [],
   "source": [
    "from sklearn.model_selection import train_test_split\n",
    "X_train, X_test, y_train, y_test = train_test_split(X, Y, test_size=0.2,random_state = 0)"
   ]
  },
  {
   "cell_type": "code",
   "execution_count": 51,
   "id": "62f97fbd",
   "metadata": {},
   "outputs": [],
   "source": [
    "from sklearn.ensemble import RandomForestClassifier\n",
    "\n",
    "#Create a Gaussian Classifier\n",
    "clf=RandomForestClassifier(n_estimators=200)\n",
    "\n",
    "#Train the model using the training sets y_pred=clf.predict(X_test)\n",
    "clf.fit(X_train,y_train)\n",
    "\n",
    "y_pred=clf.predict(X_test)"
   ]
  },
  {
   "cell_type": "code",
   "execution_count": 43,
   "id": "f9a9e6dd",
   "metadata": {},
   "outputs": [
    {
     "name": "stdout",
     "output_type": "stream",
     "text": [
      "[[0 0 1 ... 0 0 0]\n",
      " [1 0 0 ... 0 0 0]\n",
      " [0 1 0 ... 0 0 0]\n",
      " ...\n",
      " [1 0 1 ... 0 0 0]\n",
      " [1 0 0 ... 0 0 0]\n",
      " [1 0 0 ... 0 0 0]]\n"
     ]
    }
   ],
   "source": [
    "print(y_pred)"
   ]
  },
  {
   "cell_type": "code",
   "execution_count": 28,
   "id": "5d4efaaf",
   "metadata": {},
   "outputs": [
    {
     "data": {
      "text/html": [
       "<div>\n",
       "<style scoped>\n",
       "    .dataframe tbody tr th:only-of-type {\n",
       "        vertical-align: middle;\n",
       "    }\n",
       "\n",
       "    .dataframe tbody tr th {\n",
       "        vertical-align: top;\n",
       "    }\n",
       "\n",
       "    .dataframe thead th {\n",
       "        text-align: right;\n",
       "    }\n",
       "</style>\n",
       "<table border=\"1\" class=\"dataframe\">\n",
       "  <thead>\n",
       "    <tr style=\"text-align: right;\">\n",
       "      <th></th>\n",
       "      <th>Pop</th>\n",
       "      <th>Rock</th>\n",
       "      <th>Hip Hop</th>\n",
       "      <th>Folk</th>\n",
       "      <th>Metal</th>\n",
       "      <th>Blues</th>\n",
       "      <th>Jazz</th>\n",
       "    </tr>\n",
       "    <tr>\n",
       "      <th>id</th>\n",
       "      <th></th>\n",
       "      <th></th>\n",
       "      <th></th>\n",
       "      <th></th>\n",
       "      <th></th>\n",
       "      <th></th>\n",
       "      <th></th>\n",
       "    </tr>\n",
       "  </thead>\n",
       "  <tbody>\n",
       "    <tr>\n",
       "      <th>0qux2oJQ3lEWfGpKlGy47N</th>\n",
       "      <td>1</td>\n",
       "      <td>0</td>\n",
       "      <td>1</td>\n",
       "      <td>0</td>\n",
       "      <td>0</td>\n",
       "      <td>0</td>\n",
       "      <td>0</td>\n",
       "    </tr>\n",
       "    <tr>\n",
       "      <th>3ydI3CesHBnaY01Qff9jOr</th>\n",
       "      <td>0</td>\n",
       "      <td>1</td>\n",
       "      <td>0</td>\n",
       "      <td>0</td>\n",
       "      <td>0</td>\n",
       "      <td>0</td>\n",
       "      <td>0</td>\n",
       "    </tr>\n",
       "    <tr>\n",
       "      <th>0Hg2azrxVvQvmyh2S6qXCS</th>\n",
       "      <td>0</td>\n",
       "      <td>0</td>\n",
       "      <td>0</td>\n",
       "      <td>0</td>\n",
       "      <td>0</td>\n",
       "      <td>1</td>\n",
       "      <td>0</td>\n",
       "    </tr>\n",
       "    <tr>\n",
       "      <th>0ULm3rFCZSbIZcdFUOrgSm</th>\n",
       "      <td>1</td>\n",
       "      <td>1</td>\n",
       "      <td>0</td>\n",
       "      <td>0</td>\n",
       "      <td>0</td>\n",
       "      <td>0</td>\n",
       "      <td>0</td>\n",
       "    </tr>\n",
       "    <tr>\n",
       "      <th>13xM8Ik90iythL1dEt2Ihs</th>\n",
       "      <td>0</td>\n",
       "      <td>1</td>\n",
       "      <td>0</td>\n",
       "      <td>1</td>\n",
       "      <td>0</td>\n",
       "      <td>0</td>\n",
       "      <td>0</td>\n",
       "    </tr>\n",
       "    <tr>\n",
       "      <th>...</th>\n",
       "      <td>...</td>\n",
       "      <td>...</td>\n",
       "      <td>...</td>\n",
       "      <td>...</td>\n",
       "      <td>...</td>\n",
       "      <td>...</td>\n",
       "      <td>...</td>\n",
       "    </tr>\n",
       "    <tr>\n",
       "      <th>1vrXl5UJBWRJJxjCyCRPMv</th>\n",
       "      <td>1</td>\n",
       "      <td>1</td>\n",
       "      <td>0</td>\n",
       "      <td>0</td>\n",
       "      <td>0</td>\n",
       "      <td>0</td>\n",
       "      <td>0</td>\n",
       "    </tr>\n",
       "    <tr>\n",
       "      <th>098lPAWl2OmsCx64TXH5OQ</th>\n",
       "      <td>0</td>\n",
       "      <td>1</td>\n",
       "      <td>0</td>\n",
       "      <td>0</td>\n",
       "      <td>1</td>\n",
       "      <td>0</td>\n",
       "      <td>0</td>\n",
       "    </tr>\n",
       "    <tr>\n",
       "      <th>1ue7zm5TVVvmoQV8lK6K2H</th>\n",
       "      <td>1</td>\n",
       "      <td>0</td>\n",
       "      <td>0</td>\n",
       "      <td>0</td>\n",
       "      <td>0</td>\n",
       "      <td>0</td>\n",
       "      <td>0</td>\n",
       "    </tr>\n",
       "    <tr>\n",
       "      <th>7uYIX9O9DY6l1D3HiwHR1J</th>\n",
       "      <td>1</td>\n",
       "      <td>0</td>\n",
       "      <td>0</td>\n",
       "      <td>0</td>\n",
       "      <td>0</td>\n",
       "      <td>0</td>\n",
       "      <td>0</td>\n",
       "    </tr>\n",
       "    <tr>\n",
       "      <th>0Sbeihd75SGitymHS8Bqbh</th>\n",
       "      <td>1</td>\n",
       "      <td>0</td>\n",
       "      <td>0</td>\n",
       "      <td>0</td>\n",
       "      <td>0</td>\n",
       "      <td>0</td>\n",
       "      <td>0</td>\n",
       "    </tr>\n",
       "  </tbody>\n",
       "</table>\n",
       "<p>2575 rows × 7 columns</p>\n",
       "</div>"
      ],
      "text/plain": [
       "                        Pop  Rock  Hip Hop  Folk  Metal  Blues  Jazz\n",
       "id                                                                  \n",
       "0qux2oJQ3lEWfGpKlGy47N    1     0        1     0      0      0     0\n",
       "3ydI3CesHBnaY01Qff9jOr    0     1        0     0      0      0     0\n",
       "0Hg2azrxVvQvmyh2S6qXCS    0     0        0     0      0      1     0\n",
       "0ULm3rFCZSbIZcdFUOrgSm    1     1        0     0      0      0     0\n",
       "13xM8Ik90iythL1dEt2Ihs    0     1        0     1      0      0     0\n",
       "...                     ...   ...      ...   ...    ...    ...   ...\n",
       "1vrXl5UJBWRJJxjCyCRPMv    1     1        0     0      0      0     0\n",
       "098lPAWl2OmsCx64TXH5OQ    0     1        0     0      1      0     0\n",
       "1ue7zm5TVVvmoQV8lK6K2H    1     0        0     0      0      0     0\n",
       "7uYIX9O9DY6l1D3HiwHR1J    1     0        0     0      0      0     0\n",
       "0Sbeihd75SGitymHS8Bqbh    1     0        0     0      0      0     0\n",
       "\n",
       "[2575 rows x 7 columns]"
      ]
     },
     "execution_count": 28,
     "metadata": {},
     "output_type": "execute_result"
    }
   ],
   "source": [
    "y_test"
   ]
  },
  {
   "cell_type": "code",
   "execution_count": 52,
   "id": "8b7bf802",
   "metadata": {},
   "outputs": [
    {
     "name": "stdout",
     "output_type": "stream",
     "text": [
      "Accuracy: 0.32155339805825245\n"
     ]
    }
   ],
   "source": [
    "from sklearn import metrics\n",
    "# Model Accuracy, how often is the classifier correct?\n",
    "print(\"Accuracy:\",metrics.accuracy_score(y_test, y_pred))"
   ]
  }
 ],
 "metadata": {
  "kernelspec": {
   "display_name": "Python 3",
   "language": "python",
   "name": "python3"
  },
  "language_info": {
   "codemirror_mode": {
    "name": "ipython",
    "version": 3
   },
   "file_extension": ".py",
   "mimetype": "text/x-python",
   "name": "python",
   "nbconvert_exporter": "python",
   "pygments_lexer": "ipython3",
   "version": "3.9.1"
  }
 },
 "nbformat": 4,
 "nbformat_minor": 5
}
